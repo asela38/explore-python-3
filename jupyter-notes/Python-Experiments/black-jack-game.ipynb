{
 "cells": [
  {
   "cell_type": "code",
   "execution_count": 7,
   "metadata": {},
   "outputs": [],
   "source": [
    "\"\"\"\n",
    " Black Jack Game\n",
    "\"\"\"\n",
    "class Account():\n",
    "    \n",
    "    def __init__(self, ammount):\n",
    "        self.ammount = ammount\n",
    "\n",
    "    def withdraw(self, ammount):\n",
    "        \"\"\"\n",
    "            withdraw ammount\n",
    "            If successful return true else return false\n",
    "        \"\"\"\n",
    "        if self.ammount < ammount:\n",
    "            print(f\"Current balance {self.ammount} is not sufficent to withdraw {ammount}\")\n",
    "            return False\n",
    "\n",
    "        self.ammount -= ammount\n",
    "        return True\n",
    "\n",
    "    def __str__(self):\n",
    "        return f\"Account has {self.ammount}\""
   ]
  },
  {
   "cell_type": "code",
   "execution_count": 8,
   "metadata": {},
   "outputs": [],
   "source": [
    "account = Account(100)"
   ]
  },
  {
   "cell_type": "code",
   "execution_count": 14,
   "metadata": {},
   "outputs": [
    {
     "name": "stdout",
     "output_type": "stream",
     "text": [
      "Account has 0\n"
     ]
    }
   ],
   "source": [
    "print(account)"
   ]
  },
  {
   "cell_type": "code",
   "execution_count": 17,
   "metadata": {},
   "outputs": [
    {
     "name": "stdout",
     "output_type": "stream",
     "text": [
      "Current balance 0 is not sufficent to withdraw 50\n",
      "False\n"
     ]
    }
   ],
   "source": [
    "print(account.withdraw(50))"
   ]
  },
  {
   "cell_type": "code",
   "execution_count": 27,
   "metadata": {},
   "outputs": [],
   "source": [
    "class Card():\n",
    "\n",
    "    def __init__(self, suite, rank):\n",
    "        self.suite = suite\n",
    "        self.rank = rank\n",
    "        \n",
    "    def __str__(self):\n",
    "        return f\"Card {self.suite}-{self.rank}\""
   ]
  },
  {
   "cell_type": "code",
   "execution_count": 28,
   "metadata": {},
   "outputs": [
    {
     "name": "stdout",
     "output_type": "stream",
     "text": [
      "Card Heart-Jack\n"
     ]
    }
   ],
   "source": [
    "print(Card('Heart', \"Jack\"))"
   ]
  },
  {
   "cell_type": "code",
   "execution_count": 29,
   "metadata": {},
   "outputs": [],
   "source": [
    "def create_pack():\n",
    "    return [(suite, rank)\n",
    "                for suite in [\"Heart\", \"Spade\", \"Diamond\", \"Club\"] \n",
    "                for rank in [\"A\",\"1\",\"2\",\"3\",\"4\", \"5\", \"6\", \"7\", \"8\", \"9\", \"10\", \"Jack\", \"Queen\", \"King\"]]"
   ]
  },
  {
   "cell_type": "code",
   "execution_count": 30,
   "metadata": {},
   "outputs": [],
   "source": [
    "pack = create_pack()"
   ]
  },
  {
   "cell_type": "code",
   "execution_count": 47,
   "metadata": {},
   "outputs": [
    {
     "data": {
      "text/plain": [
       "tuple"
      ]
     },
     "execution_count": 47,
     "metadata": {},
     "output_type": "execute_result"
    }
   ],
   "source": [
    "type((1, [{1:{\"1\"}}]))"
   ]
  },
  {
   "cell_type": "code",
   "execution_count": null,
   "metadata": {},
   "outputs": [],
   "source": []
  },
  {
   "cell_type": "code",
   "execution_count": null,
   "metadata": {},
   "outputs": [],
   "source": []
  }
 ],
 "metadata": {
  "kernelspec": {
   "display_name": "Python 3",
   "language": "python",
   "name": "python3"
  },
  "language_info": {
   "codemirror_mode": {
    "name": "ipython",
    "version": 3
   },
   "file_extension": ".py",
   "mimetype": "text/x-python",
   "name": "python",
   "nbconvert_exporter": "python",
   "pygments_lexer": "ipython3",
   "version": "3.7.0"
  }
 },
 "nbformat": 4,
 "nbformat_minor": 2
}
