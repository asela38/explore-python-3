{
 "cells": [
  {
   "cell_type": "code",
   "execution_count": 18,
   "metadata": {},
   "outputs": [],
   "source": [
    "def find_symbol(s=0):\n",
    "    if s not in [0,1,2]:\n",
    "        s = 3\n",
    "    return [' ', 'X', 'O', '?'][s]"
   ]
  },
  {
   "cell_type": "code",
   "execution_count": 19,
   "metadata": {},
   "outputs": [
    {
     "data": {
      "text/plain": [
       "[' ', 'X', 'O', '?', '?', '?', '?']"
      ]
     },
     "execution_count": 19,
     "metadata": {},
     "output_type": "execute_result"
    }
   ],
   "source": [
    "[ find_symbol(c) for c in [0,1,2,3,4,-1,-2]]"
   ]
  },
  {
   "cell_type": "code",
   "execution_count": 34,
   "metadata": {},
   "outputs": [],
   "source": [
    "def print_line(arr):\n",
    "    print(' {} | {} | {} '.format(find_symbol(arr[0]), find_symbol(arr[1]), find_symbol(arr[2])))"
   ]
  },
  {
   "cell_type": "code",
   "execution_count": 23,
   "metadata": {},
   "outputs": [
    {
     "name": "stdout",
     "output_type": "stream",
     "text": [
      "  |   |  \n",
      "  | X |  \n",
      "X | X | X\n",
      "X | O |  \n",
      "O | O |  \n"
     ]
    },
    {
     "data": {
      "text/plain": [
       "[None, None, None, None, None]"
      ]
     },
     "execution_count": 23,
     "metadata": {},
     "output_type": "execute_result"
    }
   ],
   "source": [
    "[ print_line(x) for x in [ [0,0,0], [0,1,0], [1,1,1], [1,2,0], [2,2,0] ] ]"
   ]
  },
  {
   "cell_type": "code",
   "execution_count": 37,
   "metadata": {},
   "outputs": [],
   "source": [
    "def print_dash():\n",
    "    print('-'*(11))"
   ]
  },
  {
   "cell_type": "code",
   "execution_count": 23,
   "metadata": {},
   "outputs": [
    {
     "name": "stdout",
     "output_type": "stream",
     "text": [
      "------------\n"
     ]
    }
   ],
   "source": [
    "print_dash()"
   ]
  },
  {
   "cell_type": "code",
   "execution_count": 43,
   "metadata": {},
   "outputs": [],
   "source": [
    "def print_board(arr):\n",
    "    if len(arr) < 9:\n",
    "        print(f\"Board is invalid. Array {arr} size is {len(arr)} but should be 9\")\n",
    "        return\n",
    "    print('\\nCurrent:\\n')\n",
    "    print_line(arr[6:])\n",
    "    print_dash()\n",
    "    print_line(arr[3:6])\n",
    "    print_dash()\n",
    "    print_line(arr[:3])\n",
    "    "
   ]
  },
  {
   "cell_type": "code",
   "execution_count": 53,
   "metadata": {},
   "outputs": [
    {
     "name": "stdout",
     "output_type": "stream",
     "text": [
      "O | X | X\n",
      "------------\n",
      "X | O | X\n",
      "------------\n",
      "X |   | X\n"
     ]
    }
   ],
   "source": [
    "print_board([1,0,1,1,2,1,2,1,1])"
   ]
  },
  {
   "cell_type": "code",
   "execution_count": 45,
   "metadata": {},
   "outputs": [],
   "source": [
    "def take_input(player):\n",
    "    valid_input = False\n",
    "    while not valid_input :\n",
    "        i = input(f\"\\nPlayer{player} Select Cell? \")\n",
    "        valid_input = i.isnumeric() and int(i) in range(1,10)\n",
    "        if not valid_input:\n",
    "            print(f\"Input {i} is not valid. Please select number between {range(1,10)}\")\n",
    "        else :\n",
    "            return int(i)"
   ]
  },
  {
   "cell_type": "code",
   "execution_count": 27,
   "metadata": {},
   "outputs": [
    {
     "name": "stdout",
     "output_type": "stream",
     "text": [
      "Select Cell? 2\n",
      "2\n"
     ]
    }
   ],
   "source": [
    "print(take_input())"
   ]
  },
  {
   "cell_type": "code",
   "execution_count": 63,
   "metadata": {},
   "outputs": [],
   "source": [
    "def is_same(a,b,c) :\n",
    "    return a if a == b and b == c else 0"
   ]
  },
  {
   "cell_type": "code",
   "execution_count": 65,
   "metadata": {},
   "outputs": [
    {
     "data": {
      "text/plain": [
       "1"
      ]
     },
     "execution_count": 65,
     "metadata": {},
     "output_type": "execute_result"
    }
   ],
   "source": [
    "is_same(1,1,1)"
   ]
  },
  {
   "cell_type": "code",
   "execution_count": 71,
   "metadata": {},
   "outputs": [],
   "source": [
    "def find_winner(game) :\n",
    "    w = [ game[a-1] for a,b,c in [(1,2,3), (4,5,6), (7,8,9), (1,5,9), (3,5,7)] if is_same(game[a-1],game[b-1],game[c-1])]\n",
    "    return w[0] if len(w) is not 0 else 0;\n",
    "    "
   ]
  },
  {
   "cell_type": "code",
   "execution_count": 73,
   "metadata": {},
   "outputs": [
    {
     "data": {
      "text/plain": [
       "0"
      ]
     },
     "execution_count": 73,
     "metadata": {},
     "output_type": "execute_result"
    }
   ],
   "source": [
    "find_winner([1,1,0,0,0,0,0,0,0])"
   ]
  },
  {
   "cell_type": "code",
   "execution_count": 84,
   "metadata": {},
   "outputs": [],
   "source": [
    "def start_game():\n",
    "    game_on = True\n",
    "    print('\\nWelcome to Tic-Tac-Toe\\n')\n",
    "    game = [0]*9\n",
    "    player = 0\n",
    "    while game_on :\n",
    "        print_board(game)\n",
    "        i = take_input(player + 1) - 1\n",
    "        if game[i] is not 0:\n",
    "            print(f\"Cell {i} is Aready Selected\")\n",
    "            continue\n",
    "        game[i] = player + 1\n",
    "\n",
    "        player += 1\n",
    "        player %= 2\n",
    "        game_on = len(list(filter(lambda a: a == 0, game))) is not 0\n",
    "        \n",
    "        winner = find_winner(game) \n",
    "        if winner is not 0:\n",
    "            print(\"-\"*10)\n",
    "            print(f\"Player{winner} Won The Game!!!\")\n",
    "            print_board(game)\n",
    "    \n",
    "            break\n",
    "            \n",
    "    else :\n",
    "        print(\"No Winner :( \")\n",
    "        print_board(game)\n",
    "    print(\"\\n{:*^20}\\n\".format(\"The End\"))\n",
    "        \n",
    "        \n",
    "        "
   ]
  },
  {
   "cell_type": "code",
   "execution_count": 86,
   "metadata": {},
   "outputs": [
    {
     "name": "stdout",
     "output_type": "stream",
     "text": [
      "\n",
      "Welcome to Tic-Tac-Toe\n",
      "\n",
      "\n",
      "Current:\n",
      "\n",
      "   |   |   \n",
      "-----------\n",
      "   |   |   \n",
      "-----------\n",
      "   |   |   \n",
      "\n",
      "Player1 Select Cell? 1\n",
      "\n",
      "Current:\n",
      "\n",
      "   |   |   \n",
      "-----------\n",
      "   |   |   \n",
      "-----------\n",
      " X |   |   \n",
      "\n",
      "Player2 Select Cell? 5\n",
      "\n",
      "Current:\n",
      "\n",
      "   |   |   \n",
      "-----------\n",
      "   | O |   \n",
      "-----------\n",
      " X |   |   \n",
      "\n",
      "Player1 Select Cell? 9\n",
      "\n",
      "Current:\n",
      "\n",
      "   |   | X \n",
      "-----------\n",
      "   | O |   \n",
      "-----------\n",
      " X |   |   \n",
      "\n",
      "Player2 Select Cell? 7\n",
      "\n",
      "Current:\n",
      "\n",
      " O |   | X \n",
      "-----------\n",
      "   | O |   \n",
      "-----------\n",
      " X |   |   \n",
      "\n",
      "Player1 Select Cell? 3\n",
      "\n",
      "Current:\n",
      "\n",
      " O |   | X \n",
      "-----------\n",
      "   | O |   \n",
      "-----------\n",
      " X |   | X \n",
      "\n",
      "Player2 Select Cell? 6\n",
      "\n",
      "Current:\n",
      "\n",
      " O |   | X \n",
      "-----------\n",
      "   | O | O \n",
      "-----------\n",
      " X |   | X \n",
      "\n",
      "Player1 Select Cell? 2\n",
      "----------\n",
      "Player1 Won The Game!!!\n",
      "\n",
      "Current:\n",
      "\n",
      " O |   | X \n",
      "-----------\n",
      "   | O | O \n",
      "-----------\n",
      " X | X | X \n",
      "\n",
      "******The End*******\n",
      "\n"
     ]
    }
   ],
   "source": [
    "start_game()"
   ]
  }
 ],
 "metadata": {
  "kernelspec": {
   "display_name": "Python 3",
   "language": "python",
   "name": "python3"
  }
 },
 "nbformat": 4,
 "nbformat_minor": 2
}
