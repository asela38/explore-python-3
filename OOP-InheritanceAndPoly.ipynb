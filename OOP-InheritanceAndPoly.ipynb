{
 "cells": [
  {
   "cell_type": "code",
   "execution_count": 1,
   "metadata": {},
   "outputs": [],
   "source": [
    "class Shape():\n",
    "    \n",
    "    def __init__(self):\n",
    "        print(\"Shape\")\n",
    "        \n",
    "    def area(self):\n",
    "        print(\"Calculating Area\")\n",
    "        \n",
    "    def color(self):\n",
    "        print(\"Color is red\")\n",
    "        "
   ]
  },
  {
   "cell_type": "code",
   "execution_count": 7,
   "metadata": {},
   "outputs": [],
   "source": [
    "class Square(Shape):\n",
    "    \n",
    "    def __init__(self):\n",
    "        Shape.__init__(self)\n",
    "        print(\"Square\")\n",
    "        \n",
    "    def area(self):\n",
    "        Shape.area(self)\n",
    "        print(\"Square area\")"
   ]
  },
  {
   "cell_type": "code",
   "execution_count": 8,
   "metadata": {},
   "outputs": [
    {
     "name": "stdout",
     "output_type": "stream",
     "text": [
      "Shape\n",
      "Square\n"
     ]
    }
   ],
   "source": [
    "s = Square();"
   ]
  },
  {
   "cell_type": "code",
   "execution_count": 9,
   "metadata": {},
   "outputs": [
    {
     "name": "stdout",
     "output_type": "stream",
     "text": [
      "Calculating Area\n",
      "Square area\n"
     ]
    }
   ],
   "source": [
    "s.area()"
   ]
  },
  {
   "cell_type": "code",
   "execution_count": 10,
   "metadata": {},
   "outputs": [
    {
     "name": "stdout",
     "output_type": "stream",
     "text": [
      "Color is red\n"
     ]
    }
   ],
   "source": [
    "s.color()"
   ]
  },
  {
   "cell_type": "code",
   "execution_count": 13,
   "metadata": {},
   "outputs": [
    {
     "data": {
      "text/plain": [
       "-9223372036849395957"
      ]
     },
     "execution_count": 13,
     "metadata": {},
     "output_type": "execute_result"
    }
   ],
   "source": [
    "hash(s)"
   ]
  },
  {
   "cell_type": "code",
   "execution_count": 14,
   "metadata": {},
   "outputs": [
    {
     "data": {
      "text/plain": [
       "2"
      ]
     },
     "execution_count": 14,
     "metadata": {},
     "output_type": "execute_result"
    }
   ],
   "source": [
    "hash(2)"
   ]
  },
  {
   "cell_type": "code",
   "execution_count": 15,
   "metadata": {},
   "outputs": [
    {
     "data": {
      "text/plain": [
       "8409630672242080360"
      ]
     },
     "execution_count": 15,
     "metadata": {},
     "output_type": "execute_result"
    }
   ],
   "source": [
    "hash(\"test\")"
   ]
  },
  {
   "cell_type": "code",
   "execution_count": 16,
   "metadata": {},
   "outputs": [],
   "source": [
    "class Line:\n",
    "    \n",
    "    def __init__(self,coor1,coor2):\n",
    "        self.c1 = coor1\n",
    "        self.c2 = coor2\n",
    "    \n",
    "    def distance(self):\n",
    "        return ((self.c1[0] - self.c2[0])**2 + (self.c1[1]**2 - self.c2[1])**2)**0.5\n",
    "    \n",
    "    def slope(self):\n",
    "        return ((self.c1[0] - self.c2[0]) / (self.c1[1] - self.c2[1]))\n",
    "    \n",
    "    def __str__(self):\n",
    "        return f\"Line goes through {self.c1} and {self.c2}\"\n",
    "    \n",
    "    def __len__(self):\n",
    "        return round(self.distance())\n",
    "    \n",
    "    def __add__(self, other):\n",
    "        return Line(self.c1,other.c2)\n",
    "    "
   ]
  },
  {
   "cell_type": "code",
   "execution_count": 17,
   "metadata": {},
   "outputs": [
    {
     "name": "stdout",
     "output_type": "stream",
     "text": [
      "Line goes through (3, 2) and (8, 10)\n",
      "Line goes through (3, 2) and (3, 2)\n"
     ]
    }
   ],
   "source": [
    "coordinate1 = (3,2)\n",
    "coordinate2 = (8,10)\n",
    "\n",
    "li = Line(coordinate1,coordinate2)\n",
    "print(li)\n",
    "len(li)\n",
    "\n",
    "lj = Line(coordinate2,coordinate1)\n",
    "\n",
    "print(li + lj)"
   ]
  },
  {
   "cell_type": "code",
   "execution_count": null,
   "metadata": {},
   "outputs": [],
   "source": []
  }
 ],
 "metadata": {
  "kernelspec": {
   "display_name": "Python 3",
   "language": "python",
   "name": "python3"
  },
  "language_info": {
   "codemirror_mode": {
    "name": "ipython",
    "version": 3
   },
   "file_extension": ".py",
   "mimetype": "text/x-python",
   "name": "python",
   "nbconvert_exporter": "python",
   "pygments_lexer": "ipython3",
   "version": "3.7.0"
  }
 },
 "nbformat": 4,
 "nbformat_minor": 2
}
